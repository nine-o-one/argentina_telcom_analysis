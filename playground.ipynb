{
 "cells": [
  {
   "cell_type": "code",
   "execution_count": 145,
   "metadata": {},
   "outputs": [],
   "source": [
    "import pandas as pd\n",
    "import numpy as np\n",
    "import seaborn as sns\n",
    "import matplotlib.pyplot as plt\n",
    "import json\n",
    "import urllib.request"
   ]
  },
  {
   "attachments": {},
   "cell_type": "markdown",
   "metadata": {},
   "source": [
    "### DATOS DE CONECTIVIDAD A INTERNET EN ARGENTINA\n",
    "\n",
    "*Fuente: https://datosabiertos.enacom.gob.ar/dashboards/20000/acceso-a-internet/*"
   ]
  },
  {
   "cell_type": "code",
   "execution_count": 146,
   "metadata": {},
   "outputs": [],
   "source": [
    "### Leyendo Request a la API\n",
    "with urllib.request.urlopen('https://api.datosabiertos.enacom.gob.ar/api/v2/resources.json/?auth_key=ELJioxD1pDg7gdxvQfugkirauHiVrOSfliF5ElWo') as data2:\n",
    "    data2 = json.load(data2)\n",
    "\n",
    "### La API devuelve una lista con los recursos disponibles\n",
    "recursos = list()\n",
    "for item in data2:\n",
    "    recursos.append({'Descripcion': item['description'], 'Titulo': item['title'], 'Categoria': item['category_name'], 'GUID': item['guid'], 'Tipo': item['type']})\n",
    "    \n",
    "recursos = pd.DataFrame(recursos)\n",
    "datasets = recursos.query('Tipo == \"dt\"').query('Categoria == \"Acceso a Internet\"') # Se accede a los recursos que son Datasets de la categoría 'Acceso a internet'\n",
    "\n",
    "### Se accede a cada recurso y se busca su origen\n",
    "bucket_s3 = list()\n",
    "for i, dataset in datasets.iterrows():\n",
    "    with urllib.request.urlopen(f'https://api.datosabiertos.enacom.gob.ar/api/v2/datasets/{dataset[\"GUID\"]}.json/?auth_key=ELJioxD1pDg7gdxvQfugkirauHiVrOSfliF5ElWo') as data:\n",
    "        data = json.load(data)\n",
    "    bucket_s3.append({'Titulo': data['title'], 'Descripcion': data['description'], 'GUID': data['guid'], 'URL': data['download_url']})"
   ]
  },
  {
   "cell_type": "code",
   "execution_count": 147,
   "metadata": {},
   "outputs": [],
   "source": [
    "mapa_conexion = pd.read_excel(bucket_s3[0]['URL'])\n",
    "penetracion = pd.read_excel(bucket_s3[1]['URL'])\n",
    "\n",
    "accesos_tecnologia_localidad = pd.read_excel(bucket_s3[2]['URL'])\n",
    "accesos_tecnologia_localidad = accesos_tecnologia_localidad.drop(columns=['Total general']).melt(id_vars=['Provincia', 'Partido', 'Localidad', 'Link Indec'], var_name='Tipo Conexion', value_name='Cantidad')\n",
    "\n",
    "accesos_velocidad_provincia = pd.read_excel(bucket_s3[3]['URL'])\n",
    "accesos_velocidad_provincia = accesos_velocidad_provincia.melt(id_vars=['Provincia', 'Partido', 'Localidad', 'Link Indec'], var_name='Velocidad', value_name='Valor').fillna(0)\n",
    "\n",
    "velocidad_bajada = pd.read_excel(bucket_s3[4]['URL'])\n",
    "\n",
    "normalizacion = {'Ciudad Autónoma de Buenos Aires': 'CABA','Capital Federal': 'CABA', 'Buenos Aires': 'BUENOS AIRES', '24 Partidos del Gran Buenos Aires': 'BUENOS AIRES', \n",
    "                 'Resto de partidos de la Provincia\\nde Buenos Aires': 'BUENOS AIRES', 'Catamarca': 'CATAMARCA', 'Chaco': 'CHACO', \n",
    "                 'Chubut': 'CHUBUT','Córdoba': 'CORDOBA','Corrientes': 'CORRIENTES','Entre Ríos': 'ENTRE RIOS', 'Formosa': 'FORMOSA',\n",
    "                 'Jujuy': 'JUJUY', 'La Pampa': 'LA PAMPA', 'La Rioja': 'LA RIOJA', 'Mendoza': 'MENDOZA', 'Misiones': 'MISIONES',\n",
    "                 'Neuquén': 'NEUQUEN', 'Río Negro': 'RIO NEGRO', 'Salta': 'SALTA', 'San Juan': 'SAN JUAN', 'San Luis': 'SAN LUIS',\n",
    "                 'Santa Cruz': 'SANTA CRUZ', 'Santa Fe': 'SANTA FE', 'Santiago del Estero': 'SANTIAGO DEL ESTERO', 'Santiago Del Estero': 'SANTIAGO DEL ESTERO',\n",
    "                 'Tierra del Fuego, Antártida e Islas\\ndel Atlántico Sur (2)': 'TIERRA DEL FUEGO', 'Tierra Del Fuego': 'TIERRA DEL FUEGO',\n",
    "                 'Tucumán': 'TUCUMAN'}\n",
    "\n",
    "velocidad_bajada['Provincia'] = velocidad_bajada['Provincia'].replace(normalizacion)\n",
    "\n",
    "accesos_bandas = pd.read_excel(bucket_s3[5]['URL'])\n",
    "accesos_bandas['Provincia'] = accesos_bandas['Provincia'].replace(normalizacion)\n",
    "\n",
    "accesos_tipo_conexion = pd.read_excel(bucket_s3[6]['URL'])\n",
    "accesos_tipo_conexion = accesos_tipo_conexion.drop(columns='Total').melt(id_vars=['Año', 'Trimestre', 'Periodo'], var_name='Tipo Conexion', value_name='Cantidad')\n",
    "\n",
    "accesos_rango_velocidad = pd.read_excel(bucket_s3[7]['URL'])\n",
    "accesos_rango_velocidad = accesos_rango_velocidad.drop(columns='Total').melt(id_vars=['Año', 'Trimestre'])\n",
    "\n",
    "accesos_velocidad_bajada = pd.read_excel(bucket_s3[8]['URL'])\n",
    "accesos_velocidad_bajada.replace(normalizacion).melt(id_vars = ['Año', 'Trimestre', 'Provincia']).fillna(0)\n",
    "\n",
    "ingresos_operador = pd.read_excel(bucket_s3[9]['URL'])\n",
    "\n",
    "datos_macroeconomicos = pd.read_excel(bucket_s3[11]['URL'])\n",
    "\n",
    "provincias = accesos_bandas['Provincia'].unique()\n",
    "anios = velocidad_bajada['Año'].unique()\n",
    "trimestres = velocidad_bajada['Trimestre'].sort_values().unique()\n"
   ]
  },
  {
   "attachments": {},
   "cell_type": "markdown",
   "metadata": {},
   "source": [
    "# DATOS DE POBLACIÓN EN ARGENTICA POR PROVINCIA\n",
    "### CENSO 2022\n",
    "\n",
    "*Fuente https://censo.gob.ar/index.php/datos_provisionales/*"
   ]
  },
  {
   "cell_type": "code",
   "execution_count": 77,
   "metadata": {},
   "outputs": [],
   "source": [
    "data_poblacion = pd.read_excel('https://www.indec.gob.ar/ftp/cuadros/poblacion/cnphv2022_resultados_provisionales.xlsx', sheet_name='Cuadro 1')\n",
    "data_poblacion.columns = [data_poblacion.iloc[1].values]\n",
    "data_poblacion.drop([0,1,2,5,6,29,30,31,32], inplace=True)\n",
    "data_poblacion.reset_index(drop=True, inplace=True)\n",
    "\n",
    "normalizacion = {'Ciudad Autónoma de Buenos Aires': 'CABA', 'Buenos Aires': 'BUENOS AIRES', '24 Partidos del Gran Buenos Aires': 'BUENOS AIRES', \n",
    "                 'Resto de partidos de la Provincia\\nde Buenos Aires': 'BUENOS AIRES', 'Catamarca': 'CATAMARCA', 'Chaco': 'CHACO', \n",
    "                 'Chubut': 'CHUBUT','Córdoba': 'CORDOBA','Corrientes': 'CORRIENTES','Entre Ríos': 'ENTRE RIOS', 'Formosa': 'FORMOSA',\n",
    "                 'Jujuy': 'JUJUY', 'La Pampa': 'LA PAMPA', 'La Rioja': 'LA RIOJA', 'Mendoza': 'MENDOZA', 'Misiones': 'MISIONES',\n",
    "                 'Neuquén': 'NEUQUEN', 'Río Negro': 'RIO NEGRO', 'Salta': 'SALTA', 'San Juan': 'SAN JUAN', 'San Luis': 'SAN LUIS',\n",
    "                 'Santa Cruz': 'SANTA CRUZ', 'Santa Fe': 'SANTA FE', 'Santiago del Estero': 'SANTIAGO DEL ESTERO', \n",
    "                 'Tierra del Fuego, Antártida e Islas\\ndel Atlántico Sur (2)': 'TIERRA DEL FUEGO', 'Tucumán': 'TUCUMAN'}\n",
    "\n",
    "data_poblacion['Jurisdicción'] = data_poblacion['Jurisdicción'].replace(normalizacion)\n",
    "data_poblacion.drop(columns=['Población en situación de calle (vía pública)'], inplace=True)"
   ]
  }
 ],
 "metadata": {
  "kernelspec": {
   "display_name": "venv",
   "language": "python",
   "name": "python3"
  },
  "language_info": {
   "codemirror_mode": {
    "name": "ipython",
    "version": 3
   },
   "file_extension": ".py",
   "mimetype": "text/x-python",
   "name": "python",
   "nbconvert_exporter": "python",
   "pygments_lexer": "ipython3",
   "version": "3.11.4"
  },
  "orig_nbformat": 4
 },
 "nbformat": 4,
 "nbformat_minor": 2
}
